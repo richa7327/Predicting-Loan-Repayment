{
 "cells": [
  {
   "cell_type": "code",
   "execution_count": 1,
   "metadata": {},
   "outputs": [],
   "source": [
    "import pandas as pd\n",
    "import numpy as np\n",
    "import matplotlib.pyplot as plt\n",
    "import seaborn as sns"
   ]
  },
  {
   "cell_type": "code",
   "execution_count": 4,
   "metadata": {},
   "outputs": [],
   "source": [
    "loans = pd.read_csv(r'C:\\Users\\Richa\\Desktop\\Predicting_loan_repayment\\Data\\loan_data.csv')"
   ]
  },
  {
   "cell_type": "code",
   "execution_count": 1,
   "metadata": {},
   "outputs": [],
   "source": [
    "from sklearn import preprocessing"
   ]
  },
  {
   "cell_type": "code",
   "execution_count": 15,
   "metadata": {},
   "outputs": [
    {
     "name": "stdout",
     "output_type": "stream",
     "text": [
      "Purpose Encoded: [2 1 2 ... 2 4 2]\n"
     ]
    }
   ],
   "source": [
    "#creating labelEncoder\n",
    "le = preprocessing.LabelEncoder()\n",
    "\n",
    "# Converting string labels into numbers.\n",
    "purpose_encoded=le.fit_transform(loans['purpose'])\n",
    "print (\"Purpose Encoded:\" ,purpose_encoded) "
   ]
  },
  {
   "cell_type": "code",
   "execution_count": 16,
   "metadata": {},
   "outputs": [],
   "source": [
    "loans['purpose_encoded'] = purpose_encoded"
   ]
  },
  {
   "cell_type": "code",
   "execution_count": 17,
   "metadata": {
    "scrolled": true
   },
   "outputs": [
    {
     "data": {
      "text/html": [
       "<div>\n",
       "<style scoped>\n",
       "    .dataframe tbody tr th:only-of-type {\n",
       "        vertical-align: middle;\n",
       "    }\n",
       "\n",
       "    .dataframe tbody tr th {\n",
       "        vertical-align: top;\n",
       "    }\n",
       "\n",
       "    .dataframe thead th {\n",
       "        text-align: right;\n",
       "    }\n",
       "</style>\n",
       "<table border=\"1\" class=\"dataframe\">\n",
       "  <thead>\n",
       "    <tr style=\"text-align: right;\">\n",
       "      <th></th>\n",
       "      <th>credit.policy</th>\n",
       "      <th>purpose</th>\n",
       "      <th>int.rate</th>\n",
       "      <th>installment</th>\n",
       "      <th>log.annual.inc</th>\n",
       "      <th>dti</th>\n",
       "      <th>fico</th>\n",
       "      <th>days.with.cr.line</th>\n",
       "      <th>revol.bal</th>\n",
       "      <th>revol.util</th>\n",
       "      <th>inq.last.6mths</th>\n",
       "      <th>delinq.2yrs</th>\n",
       "      <th>pub.rec</th>\n",
       "      <th>not.fully.paid</th>\n",
       "      <th>purpose_encoded</th>\n",
       "    </tr>\n",
       "  </thead>\n",
       "  <tbody>\n",
       "    <tr>\n",
       "      <td>0</td>\n",
       "      <td>1</td>\n",
       "      <td>debt_consolidation</td>\n",
       "      <td>0.1189</td>\n",
       "      <td>829.10</td>\n",
       "      <td>11.350407</td>\n",
       "      <td>19.48</td>\n",
       "      <td>737</td>\n",
       "      <td>5639.958333</td>\n",
       "      <td>28854</td>\n",
       "      <td>52.1</td>\n",
       "      <td>0</td>\n",
       "      <td>0</td>\n",
       "      <td>0</td>\n",
       "      <td>0</td>\n",
       "      <td>2</td>\n",
       "    </tr>\n",
       "    <tr>\n",
       "      <td>1</td>\n",
       "      <td>1</td>\n",
       "      <td>credit_card</td>\n",
       "      <td>0.1071</td>\n",
       "      <td>228.22</td>\n",
       "      <td>11.082143</td>\n",
       "      <td>14.29</td>\n",
       "      <td>707</td>\n",
       "      <td>2760.000000</td>\n",
       "      <td>33623</td>\n",
       "      <td>76.7</td>\n",
       "      <td>0</td>\n",
       "      <td>0</td>\n",
       "      <td>0</td>\n",
       "      <td>0</td>\n",
       "      <td>1</td>\n",
       "    </tr>\n",
       "    <tr>\n",
       "      <td>2</td>\n",
       "      <td>1</td>\n",
       "      <td>debt_consolidation</td>\n",
       "      <td>0.1357</td>\n",
       "      <td>366.86</td>\n",
       "      <td>10.373491</td>\n",
       "      <td>11.63</td>\n",
       "      <td>682</td>\n",
       "      <td>4710.000000</td>\n",
       "      <td>3511</td>\n",
       "      <td>25.6</td>\n",
       "      <td>1</td>\n",
       "      <td>0</td>\n",
       "      <td>0</td>\n",
       "      <td>0</td>\n",
       "      <td>2</td>\n",
       "    </tr>\n",
       "    <tr>\n",
       "      <td>3</td>\n",
       "      <td>1</td>\n",
       "      <td>debt_consolidation</td>\n",
       "      <td>0.1008</td>\n",
       "      <td>162.34</td>\n",
       "      <td>11.350407</td>\n",
       "      <td>8.10</td>\n",
       "      <td>712</td>\n",
       "      <td>2699.958333</td>\n",
       "      <td>33667</td>\n",
       "      <td>73.2</td>\n",
       "      <td>1</td>\n",
       "      <td>0</td>\n",
       "      <td>0</td>\n",
       "      <td>0</td>\n",
       "      <td>2</td>\n",
       "    </tr>\n",
       "    <tr>\n",
       "      <td>4</td>\n",
       "      <td>1</td>\n",
       "      <td>credit_card</td>\n",
       "      <td>0.1426</td>\n",
       "      <td>102.92</td>\n",
       "      <td>11.299732</td>\n",
       "      <td>14.97</td>\n",
       "      <td>667</td>\n",
       "      <td>4066.000000</td>\n",
       "      <td>4740</td>\n",
       "      <td>39.5</td>\n",
       "      <td>0</td>\n",
       "      <td>1</td>\n",
       "      <td>0</td>\n",
       "      <td>0</td>\n",
       "      <td>1</td>\n",
       "    </tr>\n",
       "  </tbody>\n",
       "</table>\n",
       "</div>"
      ],
      "text/plain": [
       "   credit.policy             purpose  int.rate  installment  log.annual.inc  \\\n",
       "0              1  debt_consolidation    0.1189       829.10       11.350407   \n",
       "1              1         credit_card    0.1071       228.22       11.082143   \n",
       "2              1  debt_consolidation    0.1357       366.86       10.373491   \n",
       "3              1  debt_consolidation    0.1008       162.34       11.350407   \n",
       "4              1         credit_card    0.1426       102.92       11.299732   \n",
       "\n",
       "     dti  fico  days.with.cr.line  revol.bal  revol.util  inq.last.6mths  \\\n",
       "0  19.48   737        5639.958333      28854        52.1               0   \n",
       "1  14.29   707        2760.000000      33623        76.7               0   \n",
       "2  11.63   682        4710.000000       3511        25.6               1   \n",
       "3   8.10   712        2699.958333      33667        73.2               1   \n",
       "4  14.97   667        4066.000000       4740        39.5               0   \n",
       "\n",
       "   delinq.2yrs  pub.rec  not.fully.paid  purpose_encoded  \n",
       "0            0        0               0                2  \n",
       "1            0        0               0                1  \n",
       "2            0        0               0                2  \n",
       "3            0        0               0                2  \n",
       "4            1        0               0                1  "
      ]
     },
     "execution_count": 17,
     "metadata": {},
     "output_type": "execute_result"
    }
   ],
   "source": [
    "loans.head()"
   ]
  },
  {
   "cell_type": "code",
   "execution_count": 18,
   "metadata": {},
   "outputs": [
    {
     "data": {
      "text/plain": [
       "0       False\n",
       "1       False\n",
       "2       False\n",
       "3       False\n",
       "4       False\n",
       "        ...  \n",
       "9573    False\n",
       "9574    False\n",
       "9575    False\n",
       "9576    False\n",
       "9577    False\n",
       "Length: 9578, dtype: bool"
      ]
     },
     "execution_count": 18,
     "metadata": {},
     "output_type": "execute_result"
    }
   ],
   "source": [
    "#Checking duplicate rows\n",
    "\n",
    "loans.duplicated(subset = None, keep = 'first')"
   ]
  },
  {
   "cell_type": "code",
   "execution_count": 19,
   "metadata": {},
   "outputs": [
    {
     "data": {
      "text/html": [
       "<div>\n",
       "<style scoped>\n",
       "    .dataframe tbody tr th:only-of-type {\n",
       "        vertical-align: middle;\n",
       "    }\n",
       "\n",
       "    .dataframe tbody tr th {\n",
       "        vertical-align: top;\n",
       "    }\n",
       "\n",
       "    .dataframe thead th {\n",
       "        text-align: right;\n",
       "    }\n",
       "</style>\n",
       "<table border=\"1\" class=\"dataframe\">\n",
       "  <thead>\n",
       "    <tr style=\"text-align: right;\">\n",
       "      <th></th>\n",
       "      <th>credit.policy</th>\n",
       "      <th>purpose</th>\n",
       "      <th>int.rate</th>\n",
       "      <th>installment</th>\n",
       "      <th>log.annual.inc</th>\n",
       "      <th>dti</th>\n",
       "      <th>fico</th>\n",
       "      <th>days.with.cr.line</th>\n",
       "      <th>revol.bal</th>\n",
       "      <th>revol.util</th>\n",
       "      <th>inq.last.6mths</th>\n",
       "      <th>delinq.2yrs</th>\n",
       "      <th>pub.rec</th>\n",
       "      <th>not.fully.paid</th>\n",
       "      <th>purpose_encoded</th>\n",
       "    </tr>\n",
       "  </thead>\n",
       "  <tbody>\n",
       "    <tr>\n",
       "      <td>0</td>\n",
       "      <td>False</td>\n",
       "      <td>False</td>\n",
       "      <td>False</td>\n",
       "      <td>False</td>\n",
       "      <td>False</td>\n",
       "      <td>False</td>\n",
       "      <td>False</td>\n",
       "      <td>False</td>\n",
       "      <td>False</td>\n",
       "      <td>False</td>\n",
       "      <td>False</td>\n",
       "      <td>False</td>\n",
       "      <td>False</td>\n",
       "      <td>False</td>\n",
       "      <td>False</td>\n",
       "    </tr>\n",
       "    <tr>\n",
       "      <td>1</td>\n",
       "      <td>False</td>\n",
       "      <td>False</td>\n",
       "      <td>False</td>\n",
       "      <td>False</td>\n",
       "      <td>False</td>\n",
       "      <td>False</td>\n",
       "      <td>False</td>\n",
       "      <td>False</td>\n",
       "      <td>False</td>\n",
       "      <td>False</td>\n",
       "      <td>False</td>\n",
       "      <td>False</td>\n",
       "      <td>False</td>\n",
       "      <td>False</td>\n",
       "      <td>False</td>\n",
       "    </tr>\n",
       "    <tr>\n",
       "      <td>2</td>\n",
       "      <td>False</td>\n",
       "      <td>False</td>\n",
       "      <td>False</td>\n",
       "      <td>False</td>\n",
       "      <td>False</td>\n",
       "      <td>False</td>\n",
       "      <td>False</td>\n",
       "      <td>False</td>\n",
       "      <td>False</td>\n",
       "      <td>False</td>\n",
       "      <td>False</td>\n",
       "      <td>False</td>\n",
       "      <td>False</td>\n",
       "      <td>False</td>\n",
       "      <td>False</td>\n",
       "    </tr>\n",
       "    <tr>\n",
       "      <td>3</td>\n",
       "      <td>False</td>\n",
       "      <td>False</td>\n",
       "      <td>False</td>\n",
       "      <td>False</td>\n",
       "      <td>False</td>\n",
       "      <td>False</td>\n",
       "      <td>False</td>\n",
       "      <td>False</td>\n",
       "      <td>False</td>\n",
       "      <td>False</td>\n",
       "      <td>False</td>\n",
       "      <td>False</td>\n",
       "      <td>False</td>\n",
       "      <td>False</td>\n",
       "      <td>False</td>\n",
       "    </tr>\n",
       "    <tr>\n",
       "      <td>4</td>\n",
       "      <td>False</td>\n",
       "      <td>False</td>\n",
       "      <td>False</td>\n",
       "      <td>False</td>\n",
       "      <td>False</td>\n",
       "      <td>False</td>\n",
       "      <td>False</td>\n",
       "      <td>False</td>\n",
       "      <td>False</td>\n",
       "      <td>False</td>\n",
       "      <td>False</td>\n",
       "      <td>False</td>\n",
       "      <td>False</td>\n",
       "      <td>False</td>\n",
       "      <td>False</td>\n",
       "    </tr>\n",
       "    <tr>\n",
       "      <td>...</td>\n",
       "      <td>...</td>\n",
       "      <td>...</td>\n",
       "      <td>...</td>\n",
       "      <td>...</td>\n",
       "      <td>...</td>\n",
       "      <td>...</td>\n",
       "      <td>...</td>\n",
       "      <td>...</td>\n",
       "      <td>...</td>\n",
       "      <td>...</td>\n",
       "      <td>...</td>\n",
       "      <td>...</td>\n",
       "      <td>...</td>\n",
       "      <td>...</td>\n",
       "      <td>...</td>\n",
       "    </tr>\n",
       "    <tr>\n",
       "      <td>9573</td>\n",
       "      <td>False</td>\n",
       "      <td>False</td>\n",
       "      <td>False</td>\n",
       "      <td>False</td>\n",
       "      <td>False</td>\n",
       "      <td>False</td>\n",
       "      <td>False</td>\n",
       "      <td>False</td>\n",
       "      <td>False</td>\n",
       "      <td>False</td>\n",
       "      <td>False</td>\n",
       "      <td>False</td>\n",
       "      <td>False</td>\n",
       "      <td>False</td>\n",
       "      <td>False</td>\n",
       "    </tr>\n",
       "    <tr>\n",
       "      <td>9574</td>\n",
       "      <td>False</td>\n",
       "      <td>False</td>\n",
       "      <td>False</td>\n",
       "      <td>False</td>\n",
       "      <td>False</td>\n",
       "      <td>False</td>\n",
       "      <td>False</td>\n",
       "      <td>False</td>\n",
       "      <td>False</td>\n",
       "      <td>False</td>\n",
       "      <td>False</td>\n",
       "      <td>False</td>\n",
       "      <td>False</td>\n",
       "      <td>False</td>\n",
       "      <td>False</td>\n",
       "    </tr>\n",
       "    <tr>\n",
       "      <td>9575</td>\n",
       "      <td>False</td>\n",
       "      <td>False</td>\n",
       "      <td>False</td>\n",
       "      <td>False</td>\n",
       "      <td>False</td>\n",
       "      <td>False</td>\n",
       "      <td>False</td>\n",
       "      <td>False</td>\n",
       "      <td>False</td>\n",
       "      <td>False</td>\n",
       "      <td>False</td>\n",
       "      <td>False</td>\n",
       "      <td>False</td>\n",
       "      <td>False</td>\n",
       "      <td>False</td>\n",
       "    </tr>\n",
       "    <tr>\n",
       "      <td>9576</td>\n",
       "      <td>False</td>\n",
       "      <td>False</td>\n",
       "      <td>False</td>\n",
       "      <td>False</td>\n",
       "      <td>False</td>\n",
       "      <td>False</td>\n",
       "      <td>False</td>\n",
       "      <td>False</td>\n",
       "      <td>False</td>\n",
       "      <td>False</td>\n",
       "      <td>False</td>\n",
       "      <td>False</td>\n",
       "      <td>False</td>\n",
       "      <td>False</td>\n",
       "      <td>False</td>\n",
       "    </tr>\n",
       "    <tr>\n",
       "      <td>9577</td>\n",
       "      <td>False</td>\n",
       "      <td>False</td>\n",
       "      <td>False</td>\n",
       "      <td>False</td>\n",
       "      <td>False</td>\n",
       "      <td>False</td>\n",
       "      <td>False</td>\n",
       "      <td>False</td>\n",
       "      <td>False</td>\n",
       "      <td>False</td>\n",
       "      <td>False</td>\n",
       "      <td>False</td>\n",
       "      <td>False</td>\n",
       "      <td>False</td>\n",
       "      <td>False</td>\n",
       "    </tr>\n",
       "  </tbody>\n",
       "</table>\n",
       "<p>9578 rows × 15 columns</p>\n",
       "</div>"
      ],
      "text/plain": [
       "      credit.policy  purpose  int.rate  installment  log.annual.inc    dti  \\\n",
       "0             False    False     False        False           False  False   \n",
       "1             False    False     False        False           False  False   \n",
       "2             False    False     False        False           False  False   \n",
       "3             False    False     False        False           False  False   \n",
       "4             False    False     False        False           False  False   \n",
       "...             ...      ...       ...          ...             ...    ...   \n",
       "9573          False    False     False        False           False  False   \n",
       "9574          False    False     False        False           False  False   \n",
       "9575          False    False     False        False           False  False   \n",
       "9576          False    False     False        False           False  False   \n",
       "9577          False    False     False        False           False  False   \n",
       "\n",
       "       fico  days.with.cr.line  revol.bal  revol.util  inq.last.6mths  \\\n",
       "0     False              False      False       False           False   \n",
       "1     False              False      False       False           False   \n",
       "2     False              False      False       False           False   \n",
       "3     False              False      False       False           False   \n",
       "4     False              False      False       False           False   \n",
       "...     ...                ...        ...         ...             ...   \n",
       "9573  False              False      False       False           False   \n",
       "9574  False              False      False       False           False   \n",
       "9575  False              False      False       False           False   \n",
       "9576  False              False      False       False           False   \n",
       "9577  False              False      False       False           False   \n",
       "\n",
       "      delinq.2yrs  pub.rec  not.fully.paid  purpose_encoded  \n",
       "0           False    False           False            False  \n",
       "1           False    False           False            False  \n",
       "2           False    False           False            False  \n",
       "3           False    False           False            False  \n",
       "4           False    False           False            False  \n",
       "...           ...      ...             ...              ...  \n",
       "9573        False    False           False            False  \n",
       "9574        False    False           False            False  \n",
       "9575        False    False           False            False  \n",
       "9576        False    False           False            False  \n",
       "9577        False    False           False            False  \n",
       "\n",
       "[9578 rows x 15 columns]"
      ]
     },
     "execution_count": 19,
     "metadata": {},
     "output_type": "execute_result"
    }
   ],
   "source": [
    "#Checking missing values\n",
    "\n",
    "loans.isnull()"
   ]
  },
  {
   "cell_type": "code",
   "execution_count": 20,
   "metadata": {},
   "outputs": [
    {
     "data": {
      "text/html": [
       "<div>\n",
       "<style scoped>\n",
       "    .dataframe tbody tr th:only-of-type {\n",
       "        vertical-align: middle;\n",
       "    }\n",
       "\n",
       "    .dataframe tbody tr th {\n",
       "        vertical-align: top;\n",
       "    }\n",
       "\n",
       "    .dataframe thead th {\n",
       "        text-align: right;\n",
       "    }\n",
       "</style>\n",
       "<table border=\"1\" class=\"dataframe\">\n",
       "  <thead>\n",
       "    <tr style=\"text-align: right;\">\n",
       "      <th></th>\n",
       "      <th>credit.policy</th>\n",
       "      <th>purpose</th>\n",
       "      <th>int.rate</th>\n",
       "      <th>installment</th>\n",
       "      <th>log.annual.inc</th>\n",
       "      <th>dti</th>\n",
       "      <th>fico</th>\n",
       "      <th>days.with.cr.line</th>\n",
       "      <th>revol.bal</th>\n",
       "      <th>revol.util</th>\n",
       "      <th>inq.last.6mths</th>\n",
       "      <th>delinq.2yrs</th>\n",
       "      <th>pub.rec</th>\n",
       "      <th>not.fully.paid</th>\n",
       "      <th>purpose_encoded</th>\n",
       "    </tr>\n",
       "  </thead>\n",
       "  <tbody>\n",
       "    <tr>\n",
       "      <td>1613</td>\n",
       "      <td>1</td>\n",
       "      <td>home_improvement</td>\n",
       "      <td>0.1051</td>\n",
       "      <td>390.09</td>\n",
       "      <td>11.918391</td>\n",
       "      <td>2.92</td>\n",
       "      <td>827</td>\n",
       "      <td>8763.000000</td>\n",
       "      <td>84236</td>\n",
       "      <td>4.6</td>\n",
       "      <td>0</td>\n",
       "      <td>0</td>\n",
       "      <td>0</td>\n",
       "      <td>0</td>\n",
       "      <td>4</td>\n",
       "    </tr>\n",
       "    <tr>\n",
       "      <td>2476</td>\n",
       "      <td>1</td>\n",
       "      <td>small_business</td>\n",
       "      <td>0.0800</td>\n",
       "      <td>203.69</td>\n",
       "      <td>10.819778</td>\n",
       "      <td>3.24</td>\n",
       "      <td>822</td>\n",
       "      <td>7260.000000</td>\n",
       "      <td>35624</td>\n",
       "      <td>2.5</td>\n",
       "      <td>0</td>\n",
       "      <td>0</td>\n",
       "      <td>0</td>\n",
       "      <td>0</td>\n",
       "      <td>6</td>\n",
       "    </tr>\n",
       "    <tr>\n",
       "      <td>154</td>\n",
       "      <td>1</td>\n",
       "      <td>small_business</td>\n",
       "      <td>0.0901</td>\n",
       "      <td>795.11</td>\n",
       "      <td>10.950807</td>\n",
       "      <td>8.93</td>\n",
       "      <td>822</td>\n",
       "      <td>9696.958333</td>\n",
       "      <td>185</td>\n",
       "      <td>0.5</td>\n",
       "      <td>0</td>\n",
       "      <td>0</td>\n",
       "      <td>0</td>\n",
       "      <td>0</td>\n",
       "      <td>6</td>\n",
       "    </tr>\n",
       "    <tr>\n",
       "      <td>1477</td>\n",
       "      <td>1</td>\n",
       "      <td>all_other</td>\n",
       "      <td>0.0800</td>\n",
       "      <td>344.71</td>\n",
       "      <td>10.691945</td>\n",
       "      <td>1.94</td>\n",
       "      <td>822</td>\n",
       "      <td>11579.958330</td>\n",
       "      <td>3879</td>\n",
       "      <td>7.9</td>\n",
       "      <td>2</td>\n",
       "      <td>0</td>\n",
       "      <td>0</td>\n",
       "      <td>0</td>\n",
       "      <td>0</td>\n",
       "    </tr>\n",
       "    <tr>\n",
       "      <td>2495</td>\n",
       "      <td>1</td>\n",
       "      <td>debt_consolidation</td>\n",
       "      <td>0.0740</td>\n",
       "      <td>155.30</td>\n",
       "      <td>11.359774</td>\n",
       "      <td>7.92</td>\n",
       "      <td>822</td>\n",
       "      <td>11261.000000</td>\n",
       "      <td>1874</td>\n",
       "      <td>5.5</td>\n",
       "      <td>0</td>\n",
       "      <td>0</td>\n",
       "      <td>0</td>\n",
       "      <td>0</td>\n",
       "      <td>2</td>\n",
       "    </tr>\n",
       "  </tbody>\n",
       "</table>\n",
       "</div>"
      ],
      "text/plain": [
       "      credit.policy             purpose  int.rate  installment  \\\n",
       "1613              1    home_improvement    0.1051       390.09   \n",
       "2476              1      small_business    0.0800       203.69   \n",
       "154               1      small_business    0.0901       795.11   \n",
       "1477              1           all_other    0.0800       344.71   \n",
       "2495              1  debt_consolidation    0.0740       155.30   \n",
       "\n",
       "      log.annual.inc   dti  fico  days.with.cr.line  revol.bal  revol.util  \\\n",
       "1613       11.918391  2.92   827        8763.000000      84236         4.6   \n",
       "2476       10.819778  3.24   822        7260.000000      35624         2.5   \n",
       "154        10.950807  8.93   822        9696.958333        185         0.5   \n",
       "1477       10.691945  1.94   822       11579.958330       3879         7.9   \n",
       "2495       11.359774  7.92   822       11261.000000       1874         5.5   \n",
       "\n",
       "      inq.last.6mths  delinq.2yrs  pub.rec  not.fully.paid  purpose_encoded  \n",
       "1613               0            0        0               0                4  \n",
       "2476               0            0        0               0                6  \n",
       "154                0            0        0               0                6  \n",
       "1477               2            0        0               0                0  \n",
       "2495               0            0        0               0                2  "
      ]
     },
     "execution_count": 20,
     "metadata": {},
     "output_type": "execute_result"
    }
   ],
   "source": [
    "#Data arranged in descending order of the fico score\n",
    "\n",
    "loans.sort_values(['fico'], axis=0,ascending=False,inplace=True)\n",
    "loans.head()"
   ]
  },
  {
   "cell_type": "code",
   "execution_count": 21,
   "metadata": {},
   "outputs": [
    {
     "name": "stdout",
     "output_type": "stream",
     "text": [
      "                   credit.policy  int.rate  installment  log.annual.inc  \\\n",
      "credit.policy           1.000000 -0.294089     0.058770        0.034906   \n",
      "int.rate               -0.294089  1.000000     0.276140        0.056383   \n",
      "installment             0.058770  0.276140     1.000000        0.448102   \n",
      "log.annual.inc          0.034906  0.056383     0.448102        1.000000   \n",
      "dti                    -0.090901  0.220006     0.050202       -0.054065   \n",
      "fico                    0.348319 -0.714821     0.086039        0.114576   \n",
      "days.with.cr.line       0.099026 -0.124022     0.183297        0.336896   \n",
      "revol.bal              -0.187518  0.092527     0.233625        0.372140   \n",
      "revol.util             -0.104095  0.464837     0.081356        0.054881   \n",
      "inq.last.6mths         -0.535511  0.202780    -0.010419        0.029171   \n",
      "delinq.2yrs            -0.076318  0.156079    -0.004368        0.029203   \n",
      "pub.rec                -0.054243  0.098162    -0.032760        0.016506   \n",
      "not.fully.paid         -0.158119  0.159552     0.049955       -0.033439   \n",
      "purpose_encoded         0.017569  0.117067     0.154827        0.088958   \n",
      "\n",
      "                        dti      fico  days.with.cr.line  revol.bal  \\\n",
      "credit.policy     -0.090901  0.348319           0.099026  -0.187518   \n",
      "int.rate           0.220006 -0.714821          -0.124022   0.092527   \n",
      "installment        0.050202  0.086039           0.183297   0.233625   \n",
      "log.annual.inc    -0.054065  0.114576           0.336896   0.372140   \n",
      "dti                1.000000 -0.241191           0.060101   0.188748   \n",
      "fico              -0.241191  1.000000           0.263880  -0.015553   \n",
      "days.with.cr.line  0.060101  0.263880           1.000000   0.229344   \n",
      "revol.bal          0.188748 -0.015553           0.229344   1.000000   \n",
      "revol.util         0.337109 -0.541289          -0.024239   0.203779   \n",
      "inq.last.6mths     0.029189 -0.185293          -0.041736   0.022394   \n",
      "delinq.2yrs       -0.021792 -0.216340           0.081374  -0.033243   \n",
      "pub.rec            0.006209 -0.147592           0.071826  -0.031010   \n",
      "not.fully.paid     0.037362 -0.149666          -0.029237   0.053699   \n",
      "purpose_encoded   -0.053279  0.057337           0.047526   0.042364   \n",
      "\n",
      "                   revol.util  inq.last.6mths  delinq.2yrs   pub.rec  \\\n",
      "credit.policy       -0.104095       -0.535511    -0.076318 -0.054243   \n",
      "int.rate             0.464837        0.202780     0.156079  0.098162   \n",
      "installment          0.081356       -0.010419    -0.004368 -0.032760   \n",
      "log.annual.inc       0.054881        0.029171     0.029203  0.016506   \n",
      "dti                  0.337109        0.029189    -0.021792  0.006209   \n",
      "fico                -0.541289       -0.185293    -0.216340 -0.147592   \n",
      "days.with.cr.line   -0.024239       -0.041736     0.081374  0.071826   \n",
      "revol.bal            0.203779        0.022394    -0.033243 -0.031010   \n",
      "revol.util           1.000000       -0.013880    -0.042740  0.066717   \n",
      "inq.last.6mths      -0.013880        1.000000     0.021245  0.072673   \n",
      "delinq.2yrs         -0.042740        0.021245     1.000000  0.009184   \n",
      "pub.rec              0.066717        0.072673     0.009184  1.000000   \n",
      "not.fully.paid       0.082088        0.149452     0.008881  0.048634   \n",
      "purpose_encoded     -0.062947        0.037516    -0.011701  0.004793   \n",
      "\n",
      "                   not.fully.paid  purpose_encoded  \n",
      "credit.policy           -0.158119         0.017569  \n",
      "int.rate                 0.159552         0.117067  \n",
      "installment              0.049955         0.154827  \n",
      "log.annual.inc          -0.033439         0.088958  \n",
      "dti                      0.037362        -0.053279  \n",
      "fico                    -0.149666         0.057337  \n",
      "days.with.cr.line       -0.029237         0.047526  \n",
      "revol.bal                0.053699         0.042364  \n",
      "revol.util               0.082088        -0.062947  \n",
      "inq.last.6mths           0.149452         0.037516  \n",
      "delinq.2yrs              0.008881        -0.011701  \n",
      "pub.rec                  0.048634         0.004793  \n",
      "not.fully.paid           1.000000         0.047907  \n",
      "purpose_encoded          0.047907         1.000000  \n"
     ]
    },
    {
     "data": {
      "text/plain": [
       "<matplotlib.axes._subplots.AxesSubplot at 0x27b2ce9cf88>"
      ]
     },
     "execution_count": 21,
     "metadata": {},
     "output_type": "execute_result"
    },
    {
     "data": {
      "image/png": "[encoded data removed]",
      "text/plain": [
       "<Figure size 648x576 with 2 Axes>"
      ]
     },
     "metadata": {
      "needs_background": "light"
     },
     "output_type": "display_data"
    }
   ],
   "source": [
    "#Correlation Matrix\n",
    "\n",
    "corrmat1 = loans.corr() \n",
    "\n",
    "print(corrmat1)\n",
    "  \n",
    "f, ax = plt.subplots(figsize =(9, 8)) \n",
    "sns.heatmap(corrmat1, ax = ax, cmap =\"YlGnBu\", linewidths = 0.1) "
   ]
  },
  {
   "cell_type": "code",
   "execution_count": 22,
   "metadata": {},
   "outputs": [],
   "source": [
    "# Feature matrix in a object named X\n",
    "features = ['credit.policy','int.rate','installment','log.annual.inc','dti','fico','days.with.cr.line','revol.bal','revol.util','inq.last.6mths','delinq.2yrs','pub.rec','purpose_encoded']\n",
    "X = loans[features]\n",
    "\n",
    "# Response vector in a object named y\n",
    "target = ['not.fully.paid']\n",
    "y = loans[target]"
   ]
  },
  {
   "cell_type": "code",
   "execution_count": 23,
   "metadata": {},
   "outputs": [
    {
     "name": "stdout",
     "output_type": "stream",
     "text": [
      "(9578, 13)\n",
      "(9578, 1)\n"
     ]
    }
   ],
   "source": [
    "print(X.shape)\n",
    "print(y.shape)"
   ]
  },
  {
   "cell_type": "code",
   "execution_count": 24,
   "metadata": {},
   "outputs": [],
   "source": [
    "# splitting the data into training and test sets (70:30)\n",
    "from sklearn.model_selection import train_test_split\n",
    "X_train,X_test,y_train,y_test = train_test_split(X,y,test_size=0.3, train_size = 0.7)"
   ]
  },
  {
   "cell_type": "code",
   "execution_count": 25,
   "metadata": {},
   "outputs": [
    {
     "name": "stdout",
     "output_type": "stream",
     "text": [
      "(6704, 13)\n",
      "(2874, 13)\n"
     ]
    }
   ],
   "source": [
    "#shape of train and test objects\n",
    "print(X_train.shape)\n",
    "print(X_test.shape)"
   ]
  },
  {
   "cell_type": "code",
   "execution_count": 26,
   "metadata": {},
   "outputs": [
    {
     "name": "stdout",
     "output_type": "stream",
     "text": [
      "(6704, 1)\n",
      "(2874, 1)\n"
     ]
    }
   ],
   "source": [
    "# shape of new y objects\n",
    "print(y_train.shape)\n",
    "print(y_test.shape)"
   ]
  },
  {
   "cell_type": "markdown",
   "metadata": {},
   "source": [
    "<h2> Algorithms"
   ]
  },
  {
   "cell_type": "code",
   "execution_count": 27,
   "metadata": {},
   "outputs": [
    {
     "name": "stdout",
     "output_type": "stream",
     "text": [
      "Requirement already satisfied: xgboost in c:\\users\\richa\\anaconda3\\lib\\site-packages (1.0.2)\n",
      "Requirement already satisfied: scipy in c:\\users\\richa\\anaconda3\\lib\\site-packages (from xgboost) (1.3.1)\n",
      "Requirement already satisfied: numpy in c:\\users\\richa\\anaconda3\\lib\\site-packages (from xgboost) (1.16.5)\n",
      "Note: you may need to restart the kernel to use updated packages.\n"
     ]
    }
   ],
   "source": [
    "#installing xgboost\n",
    "\n",
    "pip install xgboost"
   ]
  },
  {
   "cell_type": "code",
   "execution_count": 28,
   "metadata": {},
   "outputs": [],
   "source": [
    "from xgboost import XGBClassifier\n",
    "from sklearn.ensemble import RandomForestClassifier\n",
    "from sklearn.ensemble import GradientBoostingRegressor"
   ]
  },
  {
   "cell_type": "markdown",
   "metadata": {},
   "source": [
    "<h4> Base Models"
   ]
  },
  {
   "cell_type": "code",
   "execution_count": 29,
   "metadata": {},
   "outputs": [],
   "source": [
    "#XGB Classifier\n",
    "xgb_clf = XGBClassifier(objective=\"binary:logistic\",\n",
    "                            learning_rate=0.03,\n",
    "                            n_estimators=500,\n",
    "                            max_depth=1,\n",
    "                            subsample=0.4,\n",
    "                            random_state=123)\n",
    "\n",
    "#Random Forest Classifier\n",
    "rf_clf = RandomForestClassifier(n_estimators=300,\n",
    "                                max_features=\"sqrt\",\n",
    "                                criterion=\"gini\",\n",
    "                                min_samples_leaf=5)\n",
    "\n",
    "#Gradient Boosting Regressor\n",
    "gb_clf = GradientBoostingRegressor(n_estimators=3000, learning_rate=0.05,\n",
    "                                   max_depth=4, max_features='sqrt',\n",
    "                                   min_samples_leaf=15, min_samples_split=10, random_state =5)\n"
   ]
  },
  {
   "cell_type": "markdown",
   "metadata": {},
   "source": [
    "<h4> Defining a strategy for Cross Validation"
   ]
  },
  {
   "cell_type": "code",
   "execution_count": 38,
   "metadata": {},
   "outputs": [],
   "source": [
    "#Validation function\n",
    "from sklearn.model_selection import KFold, cross_val_score\n",
    "\n",
    "\n",
    "def rmsle_cv(model, n_folds):\n",
    "    kf = KFold(n_folds, shuffle=True, random_state=42).get_n_splits(X_train.values)\n",
    "    rmse[i]= np.sqrt(-cross_val_score(model, X_train, y_train.values.ravel(), scoring=\"neg_mean_squared_error\", cv = kf))\n",
    "    return(rmse)"
   ]
  },
  {
   "cell_type": "markdown",
   "metadata": {},
   "source": [
    "<h4> Base Model Scores"
   ]
  },
  {
   "cell_type": "code",
   "execution_count": 70,
   "metadata": {},
   "outputs": [
    {
     "name": "stdout",
     "output_type": "stream",
     "text": [
      "\n",
      "Gradient score for n_fold = 3 : 0.3839 (0.0012)\n",
      "\n",
      "\n",
      "Gradient score for n_fold = 5 : 0.3822 (0.0108)\n",
      "\n",
      "\n",
      "Gradient score for n_fold = 7 : 0.3814 (0.0090)\n",
      "\n"
     ]
    }
   ],
   "source": [
    "#Gradient Boosting Algorithm\n",
    "n_folds = [3,5,7]\n",
    "mean_list = []\n",
    "std_list = []\n",
    "\n",
    "for i in n_folds:\n",
    "    score = rmsle_cv(gb_clf, i)\n",
    "    print(\"\\nGradient score for n_fold = {:.0f} : {:.4f} ({:.4f})\\n\".format( i, score[i].mean(), score[i].std()))\n",
    "    mean_list.append(score[i].mean())\n",
    "    std_list.append(score[i].std())"
   ]
  },
  {
   "cell_type": "code",
   "execution_count": 71,
   "metadata": {},
   "outputs": [
    {
     "data": {
      "image/png": "[encoded data removed]",
      "text/plain": [
       "<Figure size 432x288 with 1 Axes>"
      ]
     },
     "metadata": {
      "needs_background": "light"
     },
     "output_type": "display_data"
    },
    {
     "data": {
      "image/png": "[encoded data removed]",
      "text/plain": [
       "<Figure size 432x288 with 1 Axes>"
      ]
     },
     "metadata": {
      "needs_background": "light"
     },
     "output_type": "display_data"
    }
   ],
   "source": [
    "#Plotting a grapgh for Mean squared error and standard deviation of error - Gradient Boosting Algorithm\n",
    "plt.plot(n_folds, mean_list)\n",
    "plt.xlabel('Value of n_folds')\n",
    "plt.ylabel('mean squared error')\n",
    "plt.title('Gradient Boosting Algorithm')\n",
    "plt.show()\n",
    "\n",
    "plt.plot(n_folds, std_list)\n",
    "plt.xlabel('Value of n_folds')\n",
    "plt.ylabel('standard deviation of error')\n",
    "plt.title('Gradient Boosting Algorithm')\n",
    "plt.show()"
   ]
  },
  {
   "cell_type": "code",
   "execution_count": 58,
   "metadata": {},
   "outputs": [
    {
     "name": "stdout",
     "output_type": "stream",
     "text": [
      "\n",
      "XGB score for n_fold = 3 : 0.4004 (0.0023)\n",
      "\n",
      "\n",
      "XGB score for n_fold = 5 : 0.4012 (0.0025)\n",
      "\n",
      "\n",
      "XGB score for n_fold = 7 : 0.4014 (0.0034)\n",
      "\n"
     ]
    }
   ],
   "source": [
    "#XGBoost Algorithm\n",
    "n_folds = [3,5,7]\n",
    "mean_list = []\n",
    "std_list = []\n",
    "\n",
    "for i in n_folds:\n",
    "    score = rmsle_cv(xgb_clf, i)\n",
    "    print(\"\\nXGB score for n_fold = {:.0f} : {:.4f} ({:.4f})\\n\".format( i, score[i].mean(), score[i].std()))\n",
    "    mean_list.append(score[i].mean())\n",
    "    std_list.append(score[i].std())"
   ]
  },
  {
   "cell_type": "code",
   "execution_count": 67,
   "metadata": {},
   "outputs": [
    {
     "data": {
      "image/png": "[encoded data removed]",
      "text/plain": [
       "<Figure size 432x288 with 1 Axes>"
      ]
     },
     "metadata": {
      "needs_background": "light"
     },
     "output_type": "display_data"
    },
    {
     "data": {
      "image/png": "[encoded data removed]",
      "text/plain": [
       "<Figure size 432x288 with 1 Axes>"
      ]
     },
     "metadata": {
      "needs_background": "light"
     },
     "output_type": "display_data"
    }
   ],
   "source": [
    "#Plotting a grapgh for Mean squared error and standard deviation of error - XGBoost Algorithm\n",
    "plt.plot(n_folds, mean_list)\n",
    "plt.xlabel('Value of n_folds')\n",
    "plt.ylabel('mean squared error')\n",
    "plt.title('XGBoost Algorithm')\n",
    "plt.show()\n",
    "\n",
    "plt.plot(n_folds, std_list)\n",
    "plt.xlabel('Value of n_folds')\n",
    "plt.ylabel('standard deviation of error')\n",
    "plt.title('XGBoost Algorithm')\n",
    "plt.show()"
   ]
  },
  {
   "cell_type": "code",
   "execution_count": 68,
   "metadata": {},
   "outputs": [
    {
     "name": "stdout",
     "output_type": "stream",
     "text": [
      "\n",
      "Random Forest score for n_fold = 3 : 0.4008 (0.0005)\n",
      "\n",
      "\n",
      "Random Forest score for n_fold = 5 : 0.4004 (0.0008)\n",
      "\n",
      "\n",
      "Random Forest score for n_fold = 7 : 0.4008 (0.0010)\n",
      "\n"
     ]
    }
   ],
   "source": [
    "#Random Forest Algorithm\n",
    "n_folds = [3,5,7]\n",
    "mean_list = []\n",
    "std_list = []\n",
    "\n",
    "for i in n_folds:\n",
    "    score = rmsle_cv(rf_clf, i)\n",
    "    print(\"\\nRandom Forest score for n_fold = {:.0f} : {:.4f} ({:.4f})\\n\".format( i, score[i].mean(), score[i].std()))\n",
    "    mean_list.append(score[i].mean())\n",
    "    std_list.append(score[i].std())"
   ]
  },
  {
   "cell_type": "code",
   "execution_count": 69,
   "metadata": {},
   "outputs": [
    {
     "data": {
      "image/png": "[encoded data removed]",
      "text/plain": [
       "<Figure size 432x288 with 1 Axes>"
      ]
     },
     "metadata": {
      "needs_background": "light"
     },
     "output_type": "display_data"
    },
    {
     "data": {
      "image/png": "[encoded data removed]",
      "text/plain": [
       "<Figure size 432x288 with 1 Axes>"
      ]
     },
     "metadata": {
      "needs_background": "light"
     },
     "output_type": "display_data"
    }
   ],
   "source": [
    "#Plotting a grapgh for Mean squared error and standard deviation of error - Random Forest Algorithm\n",
    "plt.plot(n_folds, mean_list)\n",
    "plt.xlabel('Value of n_folds')\n",
    "plt.ylabel('mean squared error')\n",
    "plt.title('Random Forest Algorithm')\n",
    "plt.show()\n",
    "\n",
    "plt.plot(n_folds, std_list)\n",
    "plt.xlabel('Value of n_folds')\n",
    "plt.ylabel('standard deviation of error')\n",
    "plt.title('Random Forest Algorithm')\n",
    "plt.show()"
   ]
  },
  {
   "cell_type": "markdown",
   "metadata": {},
   "source": [
    "<h3>Stacking Models"
   ]
  },
  {
   "cell_type": "code",
   "execution_count": 49,
   "metadata": {},
   "outputs": [],
   "source": [
    "from sklearn.base import BaseEstimator\n",
    "from sklearn.base import RegressorMixin\n",
    "from sklearn.base import TransformerMixin\n",
    "from sklearn.base import clone"
   ]
  },
  {
   "cell_type": "markdown",
   "metadata": {},
   "source": [
    "<h4>Approach : Averaging Base Models"
   ]
  },
  {
   "cell_type": "code",
   "execution_count": 50,
   "metadata": {},
   "outputs": [],
   "source": [
    "#Averaging Models\n",
    "\n",
    "class AveragedModels(BaseEstimator, RegressorMixin, TransformerMixin):\n",
    "    def __init__(self, models):\n",
    "        self.models = models\n",
    "        \n",
    "    def fit(self, X, y):\n",
    "        self.models_ = [clone(x) for x in self.models]\n",
    "        \n",
    "        # Train cloned base models\n",
    "        for model in self.models_:\n",
    "            model.fit(X, y)\n",
    "        return self\n",
    "    \n",
    "    def predict(self, X):\n",
    "        predictions = np.column_stack([\n",
    "            model.predict(X) for model in self.models_\n",
    "        ])\n",
    "        return np.mean(predictions, axis=1)"
   ]
  },
  {
   "cell_type": "code",
   "execution_count": 73,
   "metadata": {},
   "outputs": [
    {
     "name": "stdout",
     "output_type": "stream",
     "text": [
      " Averaged base models score for n_fold = 3: 0.3839 (0.0012)\n",
      "\n"
     ]
    }
   ],
   "source": [
    "#n_folds=3 shows least errors in all the three base learners above.\n",
    "\n",
    "averaged_models = AveragedModels(models = (rf_clf, xgb_clf, gb_clf))\n",
    "\n",
    "score = rmsle_cv(averaged_models, 3)\n",
    "print(\" Averaged base models score for n_fold = 3: {:.4f} ({:.4f})\\n\".format(score[3].mean(), score[3].std()))"
   ]
  }
 ],
 "metadata": {
  "kernelspec": {
   "display_name": "Python 3",
   "language": "python",
   "name": "python3"
  },
  "language_info": {
   "codemirror_mode": {
    "name": "ipython",
    "version": 3
   },
   "file_extension": ".py",
   "mimetype": "text/x-python",
   "name": "python",
   "nbconvert_exporter": "python",
   "pygments_lexer": "ipython3",
   "version": "3.7.4"
  }
 },
 "nbformat": 4,
 "nbformat_minor": 2
}
